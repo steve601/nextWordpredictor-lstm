{
 "cells": [
  {
   "cell_type": "markdown",
   "metadata": {},
   "source": [
    "### importing core libraries"
   ]
  },
  {
   "cell_type": "code",
   "execution_count": 13,
   "metadata": {},
   "outputs": [],
   "source": [
    "import numpy as np\n",
    "import tensorflow\n",
    "from tensorflow.keras.preprocessing.text import Tokenizer\n",
    "from tensorflow.keras.preprocessing.sequence import pad_sequences\n",
    "from tensorflow.keras.models import Sequential\n",
    "from tensorflow.keras.layers import Embedding,LSTM,Dense"
   ]
  },
  {
   "cell_type": "markdown",
   "metadata": {},
   "source": [
    "### loading the file"
   ]
  },
  {
   "cell_type": "code",
   "execution_count": 3,
   "metadata": {},
   "outputs": [],
   "source": [
    "with open('C:\\\\Users\\\\odhia\\\\OneDrive\\\\Desktop\\\\nlpProjects\\\\data\\\\ruto.txt', 'r', encoding='utf-8') as myfile:\n",
    "    text = myfile.read()"
   ]
  },
  {
   "cell_type": "code",
   "execution_count": 4,
   "metadata": {},
   "outputs": [
    {
     "data": {
      "text/plain": [
       "\"At the onset, let me take this opportunity to warmly welcome you and your team to this beautiful resort town of Naivasha.I also take this opportunity to express my deep appreciation tomy fellow African Union Heads of State and Government for theirconfidence in assigning me the task of finalising the outstanding institutional reforms of the African Union. \\n\\nI recognise the admirable effort and progress made by my predecessor in this noble task and sincerely thank His Excellency Paul Kagame,President of the Republic of Rwanda, for the exemplary delivery of the reforms so far. I am honoured to have this chance to build on his good work and commit to expeditiously advancing the remaining reforms to their logical conclusion.Africa is endowed with abundant potential that largely remains untapped.\\n\\nThis denies the continent immense opportunities in various economic sectors, including agriculture, renewable energy, manufacturing, mining, and climate action. Under the African Union Agenda 2063, we have a coherent pathway to unleash this potential and propel the continent into the league of highly developed societies within a few generations.\\n\\nTo do so,we must intentionally align our foremost Pan-African institution with the continent's aspirations and reconfigure it to become agile and responsive in delivering the same. This is the work set out for us.We have a historic opportunity to reform the African Union and make it fit for purpose in light of our collective developmental objectives.\\n\\nWe must execute these reforms with resolve and a sense of urgency commensurate with the magnitude of our challenges, potential, and ambition. Africans are highly enterprising, educated, skilled, and youthful and are ready todo their part in developing our continent. We must not let them down, and we must not keep them waiting.I appreciate the effort that has gone into achieving the reforms made so far in the AU.\\n\\nAs a result, decision-making at the AU Assembly has been streamlined to achieve significant clarity and economy. Similarly, the structure and mandates of the senior ranks of the Commission have been realigned and cemented with rationalised selection modalities. Additionally, the AU's Commission, organs, and specialised agencies have also been restructured. The New Partnership for Africa's Development has been transformed into the African Union Development Agency,ushering in a new era of ambitious pursuit of shared prosperity.\\n\\nLikewise, 42 out of 55 institutions have been analysed and reviewed, while the structure of the Commission has been fully reviewed and approved by the Executive Council.A new AU for a new era is beginning to take shape, and the next phase of the reforms, which I am privileged to lead, will complete this exemplary work.\\n\\n A critical reform that I shall focus on is the division of labour between the Member States, AU, and Regional Economic Communities, as well as the AU Specialized Agencies.Particularly, there are functional overlaps that urgently nee resolution to enhance our Union’s operational efficiency.Economists have predicted another year of slow growth in the world in 2024, meaning that budget constraints will continue to limit our capacity to execute the AU Agenda 2063.\\n\\nThere will be no resources to waste, and greater efficiency is imperative.We cannot afford to spread our meagre resources too thin across institutions that perform overlapping functions.As I said during the IDA21 Replenishment Summit in Nairobi,as African Heads of State and Government, we are strongly committed to reforming the African Union Commission to make it fit for purpose and to empower it with the capacity to engage the rest of the world on behalf of Africa.\\n\\nAt the same time, it is time for us to reform the Pan-African Parliament to enable it to exercise oversight over the AU Commission to make it more accountable and to finally establish an African Court of Justice.Faced with the relentless challenge of climate change and escalating instability and economic shocks, African nations must find strength in Pan-African unity.\\n\\nDespite the many daunting forces working hard to divide us, the AU must be able to keep us united and focused on the fundamental objectives of delivering inclusive prosperity throughout Africa, contributing to global development, security, and stability, and safeguarding the future of our humankind and the diverse life forms that share\\nour planet. \""
      ]
     },
     "execution_count": 4,
     "metadata": {},
     "output_type": "execute_result"
    }
   ],
   "source": [
    "text"
   ]
  },
  {
   "cell_type": "markdown",
   "metadata": {},
   "source": [
    "### tokenizing the text"
   ]
  },
  {
   "cell_type": "code",
   "execution_count": 5,
   "metadata": {},
   "outputs": [],
   "source": [
    "tokenizer = Tokenizer()\n",
    "tokenizer.fit_on_texts([text])\n",
    "input_dim = len(tokenizer.word_index) + 1"
   ]
  },
  {
   "cell_type": "code",
   "execution_count": 6,
   "metadata": {},
   "outputs": [
    {
     "data": {
      "text/plain": [
       "{'the': 1,\n",
       " 'and': 2,\n",
       " 'to': 3,\n",
       " 'of': 4,\n",
       " 'african': 5,\n",
       " 'in': 6,\n",
       " 'this': 7,\n",
       " 'a': 8,\n",
       " 'our': 9,\n",
       " 'for': 10,\n",
       " 'we': 11,\n",
       " 'au': 12,\n",
       " 'i': 13,\n",
       " 'have': 14,\n",
       " 'with': 15,\n",
       " 'that': 16,\n",
       " 'it': 17,\n",
       " 'union': 18,\n",
       " 'reforms': 19,\n",
       " 'is': 20,\n",
       " 'must': 21,\n",
       " 'been': 22,\n",
       " 'as': 23,\n",
       " 'commission': 24,\n",
       " 'on': 25,\n",
       " 'us': 26,\n",
       " 'are': 27,\n",
       " 'has': 28,\n",
       " 'new': 29,\n",
       " 'at': 30,\n",
       " 'take': 31,\n",
       " 'opportunity': 32,\n",
       " 'so': 33,\n",
       " 'work': 34,\n",
       " 'africa': 35,\n",
       " 'potential': 36,\n",
       " 'continent': 37,\n",
       " 'economic': 38,\n",
       " 'into': 39,\n",
       " 'pan': 40,\n",
       " 'reform': 41,\n",
       " 'make': 42,\n",
       " 'development': 43,\n",
       " 'will': 44,\n",
       " 'let': 45,\n",
       " 'me': 46,\n",
       " 'also': 47,\n",
       " 'my': 48,\n",
       " 'heads': 49,\n",
       " 'state': 50,\n",
       " 'government': 51,\n",
       " 'task': 52,\n",
       " 'effort': 53,\n",
       " 'made': 54,\n",
       " 'by': 55,\n",
       " 'his': 56,\n",
       " 'exemplary': 57,\n",
       " 'far': 58,\n",
       " 'am': 59,\n",
       " 'their': 60,\n",
       " 'climate': 61,\n",
       " 'agenda': 62,\n",
       " '2063': 63,\n",
       " 'highly': 64,\n",
       " 'delivering': 65,\n",
       " 'same': 66,\n",
       " 'out': 67,\n",
       " 'fit': 68,\n",
       " 'purpose': 69,\n",
       " 'objectives': 70,\n",
       " 'execute': 71,\n",
       " 'not': 72,\n",
       " 'them': 73,\n",
       " 'keep': 74,\n",
       " 'structure': 75,\n",
       " 'agencies': 76,\n",
       " 'era': 77,\n",
       " 'prosperity': 78,\n",
       " 'institutions': 79,\n",
       " 'reviewed': 80,\n",
       " 'there': 81,\n",
       " 'efficiency': 82,\n",
       " 'world': 83,\n",
       " 'capacity': 84,\n",
       " 'be': 85,\n",
       " 'resources': 86,\n",
       " 'time': 87,\n",
       " 'onset': 88,\n",
       " 'warmly': 89,\n",
       " 'welcome': 90,\n",
       " 'you': 91,\n",
       " 'your': 92,\n",
       " 'team': 93,\n",
       " 'beautiful': 94,\n",
       " 'resort': 95,\n",
       " 'town': 96,\n",
       " 'naivasha': 97,\n",
       " 'express': 98,\n",
       " 'deep': 99,\n",
       " 'appreciation': 100,\n",
       " 'tomy': 101,\n",
       " 'fellow': 102,\n",
       " 'theirconfidence': 103,\n",
       " 'assigning': 104,\n",
       " 'finalising': 105,\n",
       " 'outstanding': 106,\n",
       " 'institutional': 107,\n",
       " 'recognise': 108,\n",
       " 'admirable': 109,\n",
       " 'progress': 110,\n",
       " 'predecessor': 111,\n",
       " 'noble': 112,\n",
       " 'sincerely': 113,\n",
       " 'thank': 114,\n",
       " 'excellency': 115,\n",
       " 'paul': 116,\n",
       " 'kagame': 117,\n",
       " 'president': 118,\n",
       " 'republic': 119,\n",
       " 'rwanda': 120,\n",
       " 'delivery': 121,\n",
       " 'honoured': 122,\n",
       " 'chance': 123,\n",
       " 'build': 124,\n",
       " 'good': 125,\n",
       " 'commit': 126,\n",
       " 'expeditiously': 127,\n",
       " 'advancing': 128,\n",
       " 'remaining': 129,\n",
       " 'logical': 130,\n",
       " 'conclusion': 131,\n",
       " 'endowed': 132,\n",
       " 'abundant': 133,\n",
       " 'largely': 134,\n",
       " 'remains': 135,\n",
       " 'untapped': 136,\n",
       " 'denies': 137,\n",
       " 'immense': 138,\n",
       " 'opportunities': 139,\n",
       " 'various': 140,\n",
       " 'sectors': 141,\n",
       " 'including': 142,\n",
       " 'agriculture': 143,\n",
       " 'renewable': 144,\n",
       " 'energy': 145,\n",
       " 'manufacturing': 146,\n",
       " 'mining': 147,\n",
       " 'action': 148,\n",
       " 'under': 149,\n",
       " 'coherent': 150,\n",
       " 'pathway': 151,\n",
       " 'unleash': 152,\n",
       " 'propel': 153,\n",
       " 'league': 154,\n",
       " 'developed': 155,\n",
       " 'societies': 156,\n",
       " 'within': 157,\n",
       " 'few': 158,\n",
       " 'generations': 159,\n",
       " 'do': 160,\n",
       " 'intentionally': 161,\n",
       " 'align': 162,\n",
       " 'foremost': 163,\n",
       " 'institution': 164,\n",
       " \"continent's\": 165,\n",
       " 'aspirations': 166,\n",
       " 'reconfigure': 167,\n",
       " 'become': 168,\n",
       " 'agile': 169,\n",
       " 'responsive': 170,\n",
       " 'set': 171,\n",
       " 'historic': 172,\n",
       " 'light': 173,\n",
       " 'collective': 174,\n",
       " 'developmental': 175,\n",
       " 'these': 176,\n",
       " 'resolve': 177,\n",
       " 'sense': 178,\n",
       " 'urgency': 179,\n",
       " 'commensurate': 180,\n",
       " 'magnitude': 181,\n",
       " 'challenges': 182,\n",
       " 'ambition': 183,\n",
       " 'africans': 184,\n",
       " 'enterprising': 185,\n",
       " 'educated': 186,\n",
       " 'skilled': 187,\n",
       " 'youthful': 188,\n",
       " 'ready': 189,\n",
       " 'todo': 190,\n",
       " 'part': 191,\n",
       " 'developing': 192,\n",
       " 'down': 193,\n",
       " 'waiting': 194,\n",
       " 'appreciate': 195,\n",
       " 'gone': 196,\n",
       " 'achieving': 197,\n",
       " 'result': 198,\n",
       " 'decision': 199,\n",
       " 'making': 200,\n",
       " 'assembly': 201,\n",
       " 'streamlined': 202,\n",
       " 'achieve': 203,\n",
       " 'significant': 204,\n",
       " 'clarity': 205,\n",
       " 'economy': 206,\n",
       " 'similarly': 207,\n",
       " 'mandates': 208,\n",
       " 'senior': 209,\n",
       " 'ranks': 210,\n",
       " 'realigned': 211,\n",
       " 'cemented': 212,\n",
       " 'rationalised': 213,\n",
       " 'selection': 214,\n",
       " 'modalities': 215,\n",
       " 'additionally': 216,\n",
       " \"au's\": 217,\n",
       " 'organs': 218,\n",
       " 'specialised': 219,\n",
       " 'restructured': 220,\n",
       " 'partnership': 221,\n",
       " \"africa's\": 222,\n",
       " 'transformed': 223,\n",
       " 'agency': 224,\n",
       " 'ushering': 225,\n",
       " 'ambitious': 226,\n",
       " 'pursuit': 227,\n",
       " 'shared': 228,\n",
       " 'likewise': 229,\n",
       " '42': 230,\n",
       " '55': 231,\n",
       " 'analysed': 232,\n",
       " 'while': 233,\n",
       " 'fully': 234,\n",
       " 'approved': 235,\n",
       " 'executive': 236,\n",
       " 'council': 237,\n",
       " 'beginning': 238,\n",
       " 'shape': 239,\n",
       " 'next': 240,\n",
       " 'phase': 241,\n",
       " 'which': 242,\n",
       " 'privileged': 243,\n",
       " 'lead': 244,\n",
       " 'complete': 245,\n",
       " 'critical': 246,\n",
       " 'shall': 247,\n",
       " 'focus': 248,\n",
       " 'division': 249,\n",
       " 'labour': 250,\n",
       " 'between': 251,\n",
       " 'member': 252,\n",
       " 'states': 253,\n",
       " 'regional': 254,\n",
       " 'communities': 255,\n",
       " 'well': 256,\n",
       " 'specialized': 257,\n",
       " 'particularly': 258,\n",
       " 'functional': 259,\n",
       " 'overlaps': 260,\n",
       " 'urgently': 261,\n",
       " 'nee': 262,\n",
       " 'resolution': 263,\n",
       " 'enhance': 264,\n",
       " 'union’s': 265,\n",
       " 'operational': 266,\n",
       " 'economists': 267,\n",
       " 'predicted': 268,\n",
       " 'another': 269,\n",
       " 'year': 270,\n",
       " 'slow': 271,\n",
       " 'growth': 272,\n",
       " '2024': 273,\n",
       " 'meaning': 274,\n",
       " 'budget': 275,\n",
       " 'constraints': 276,\n",
       " 'continue': 277,\n",
       " 'limit': 278,\n",
       " 'no': 279,\n",
       " 'waste': 280,\n",
       " 'greater': 281,\n",
       " 'imperative': 282,\n",
       " 'cannot': 283,\n",
       " 'afford': 284,\n",
       " 'spread': 285,\n",
       " 'meagre': 286,\n",
       " 'too': 287,\n",
       " 'thin': 288,\n",
       " 'across': 289,\n",
       " 'perform': 290,\n",
       " 'overlapping': 291,\n",
       " 'functions': 292,\n",
       " 'said': 293,\n",
       " 'during': 294,\n",
       " 'ida21': 295,\n",
       " 'replenishment': 296,\n",
       " 'summit': 297,\n",
       " 'nairobi': 298,\n",
       " 'strongly': 299,\n",
       " 'committed': 300,\n",
       " 'reforming': 301,\n",
       " 'empower': 302,\n",
       " 'engage': 303,\n",
       " 'rest': 304,\n",
       " 'behalf': 305,\n",
       " 'parliament': 306,\n",
       " 'enable': 307,\n",
       " 'exercise': 308,\n",
       " 'oversight': 309,\n",
       " 'over': 310,\n",
       " 'more': 311,\n",
       " 'accountable': 312,\n",
       " 'finally': 313,\n",
       " 'establish': 314,\n",
       " 'an': 315,\n",
       " 'court': 316,\n",
       " 'justice': 317,\n",
       " 'faced': 318,\n",
       " 'relentless': 319,\n",
       " 'challenge': 320,\n",
       " 'change': 321,\n",
       " 'escalating': 322,\n",
       " 'instability': 323,\n",
       " 'shocks': 324,\n",
       " 'nations': 325,\n",
       " 'find': 326,\n",
       " 'strength': 327,\n",
       " 'unity': 328,\n",
       " 'despite': 329,\n",
       " 'many': 330,\n",
       " 'daunting': 331,\n",
       " 'forces': 332,\n",
       " 'working': 333,\n",
       " 'hard': 334,\n",
       " 'divide': 335,\n",
       " 'able': 336,\n",
       " 'united': 337,\n",
       " 'focused': 338,\n",
       " 'fundamental': 339,\n",
       " 'inclusive': 340,\n",
       " 'throughout': 341,\n",
       " 'contributing': 342,\n",
       " 'global': 343,\n",
       " 'security': 344,\n",
       " 'stability': 345,\n",
       " 'safeguarding': 346,\n",
       " 'future': 347,\n",
       " 'humankind': 348,\n",
       " 'diverse': 349,\n",
       " 'life': 350,\n",
       " 'forms': 351,\n",
       " 'share': 352,\n",
       " 'planet': 353}"
      ]
     },
     "execution_count": 6,
     "metadata": {},
     "output_type": "execute_result"
    }
   ],
   "source": [
    "tokenizer.word_index"
   ]
  },
  {
   "cell_type": "markdown",
   "metadata": {},
   "source": [
    "### we generate n_gram seq where first 2 words can be on one sequence,first 3 words can be the next sequence and so on"
   ]
  },
  {
   "cell_type": "code",
   "execution_count": 7,
   "metadata": {},
   "outputs": [],
   "source": [
    "input_seq = []\n",
    "for line in text.split('\\n'):\n",
    "    #print(line)\n",
    "    token_list = tokenizer.texts_to_sequences([line])[0] # extract the first (and only) list of token indices.i.e the first line\n",
    "    for i in range(1,len(token_list)):\n",
    "        n_gram_seq = token_list[:i+1]\n",
    "        input_seq.append(n_gram_seq)"
   ]
  },
  {
   "cell_type": "markdown",
   "metadata": {},
   "source": [
    "### making sentences to be of equal length"
   ]
  },
  {
   "cell_type": "code",
   "execution_count": 8,
   "metadata": {},
   "outputs": [
    {
     "data": {
      "text/plain": [
       "79"
      ]
     },
     "execution_count": 8,
     "metadata": {},
     "output_type": "execute_result"
    }
   ],
   "source": [
    "max_len = max([len(seq) for seq in input_seq])\n",
    "inp_seq = np.array(pad_sequences(input_seq,maxlen=max_len, padding='pre'))\n",
    "max_len"
   ]
  },
  {
   "cell_type": "code",
   "execution_count": 9,
   "metadata": {},
   "outputs": [],
   "source": [
    "X = inp_seq[:,:-1]\n",
    "y = inp_seq[:,-1]"
   ]
  },
  {
   "cell_type": "code",
   "execution_count": 10,
   "metadata": {},
   "outputs": [
    {
     "data": {
      "text/plain": [
       "array([[  0,   0,   0, ...,   0,   0,  30],\n",
       "       [  0,   0,   0, ...,   0,  30,   1],\n",
       "       [  0,   0,   0, ...,  30,   1,  88],\n",
       "       ...,\n",
       "       [  0,   0,   0, ..., 349, 350, 351],\n",
       "       [  0,   0,   0, ..., 350, 351,  16],\n",
       "       [  0,   0,   0, ...,   0,   0,   9]])"
      ]
     },
     "execution_count": 10,
     "metadata": {},
     "output_type": "execute_result"
    }
   ],
   "source": [
    "X"
   ]
  },
  {
   "cell_type": "code",
   "execution_count": 14,
   "metadata": {},
   "outputs": [],
   "source": [
    "y = np.array(tensorflow.keras.utils.to_categorical(y,num_classes=input_dim))"
   ]
  },
  {
   "cell_type": "markdown",
   "metadata": {},
   "source": [
    "### building model"
   ]
  },
  {
   "cell_type": "code",
   "execution_count": 15,
   "metadata": {},
   "outputs": [
    {
     "name": "stdout",
     "output_type": "stream",
     "text": [
      "WARNING:tensorflow:From c:\\Users\\odhia\\OneDrive\\Desktop\\nlpProjects\\venv\\Lib\\site-packages\\keras\\src\\backend.py:873: The name tf.get_default_graph is deprecated. Please use tf.compat.v1.get_default_graph instead.\n",
      "\n"
     ]
    }
   ],
   "source": [
    "model = Sequential([\n",
    "    Embedding(input_dim,100,input_length = max_len -1),\n",
    "    LSTM(150),\n",
    "    Dense(input_dim,activation = 'softmax')\n",
    "])"
   ]
  },
  {
   "cell_type": "code",
   "execution_count": 16,
   "metadata": {},
   "outputs": [
    {
     "name": "stdout",
     "output_type": "stream",
     "text": [
      "WARNING:tensorflow:From c:\\Users\\odhia\\OneDrive\\Desktop\\nlpProjects\\venv\\Lib\\site-packages\\keras\\src\\optimizers\\__init__.py:309: The name tf.train.Optimizer is deprecated. Please use tf.compat.v1.train.Optimizer instead.\n",
      "\n"
     ]
    }
   ],
   "source": [
    "model.compile(loss='categorical_crossentropy',optimizer='adam',metrics=['accuracy'])"
   ]
  },
  {
   "cell_type": "code",
   "execution_count": 17,
   "metadata": {},
   "outputs": [
    {
     "name": "stdout",
     "output_type": "stream",
     "text": [
      "Epoch 1/45\n",
      "WARNING:tensorflow:From c:\\Users\\odhia\\OneDrive\\Desktop\\nlpProjects\\venv\\Lib\\site-packages\\keras\\src\\utils\\tf_utils.py:492: The name tf.ragged.RaggedTensorValue is deprecated. Please use tf.compat.v1.ragged.RaggedTensorValue instead.\n",
      "\n",
      "WARNING:tensorflow:From c:\\Users\\odhia\\OneDrive\\Desktop\\nlpProjects\\venv\\Lib\\site-packages\\keras\\src\\engine\\base_layer_utils.py:384: The name tf.executing_eagerly_outside_functions is deprecated. Please use tf.compat.v1.executing_eagerly_outside_functions instead.\n",
      "\n",
      "22/22 [==============================] - 11s 111ms/step - loss: 5.7872 - accuracy: 0.0501\n",
      "Epoch 2/45\n",
      "22/22 [==============================] - 3s 114ms/step - loss: 5.4038 - accuracy: 0.0630\n",
      "Epoch 3/45\n",
      "22/22 [==============================] - 3s 127ms/step - loss: 5.2960 - accuracy: 0.0745\n",
      "Epoch 4/45\n",
      "22/22 [==============================] - 2s 93ms/step - loss: 5.2542 - accuracy: 0.0745\n",
      "Epoch 5/45\n",
      "22/22 [==============================] - 3s 125ms/step - loss: 5.2413 - accuracy: 0.0745\n",
      "Epoch 6/45\n",
      "22/22 [==============================] - 2s 105ms/step - loss: 5.2134 - accuracy: 0.0745\n",
      "Epoch 7/45\n",
      "22/22 [==============================] - 3s 116ms/step - loss: 5.1785 - accuracy: 0.0745\n",
      "Epoch 8/45\n",
      "22/22 [==============================] - 3s 134ms/step - loss: 5.1183 - accuracy: 0.0788\n",
      "Epoch 9/45\n",
      "22/22 [==============================] - 2s 109ms/step - loss: 5.0291 - accuracy: 0.0860\n",
      "Epoch 10/45\n",
      "22/22 [==============================] - 2s 92ms/step - loss: 4.8955 - accuracy: 0.1332\n",
      "Epoch 11/45\n",
      "22/22 [==============================] - 2s 92ms/step - loss: 4.7002 - accuracy: 0.1490\n",
      "Epoch 12/45\n",
      "22/22 [==============================] - 2s 93ms/step - loss: 4.4669 - accuracy: 0.1762\n",
      "Epoch 13/45\n",
      "22/22 [==============================] - 2s 100ms/step - loss: 4.2086 - accuracy: 0.1948\n",
      "Epoch 14/45\n",
      "22/22 [==============================] - 2s 92ms/step - loss: 3.9452 - accuracy: 0.2249\n",
      "Epoch 15/45\n",
      "22/22 [==============================] - 2s 91ms/step - loss: 3.6932 - accuracy: 0.2436\n",
      "Epoch 16/45\n",
      "22/22 [==============================] - 2s 89ms/step - loss: 3.4336 - accuracy: 0.2779\n",
      "Epoch 17/45\n",
      "22/22 [==============================] - 2s 106ms/step - loss: 3.1903 - accuracy: 0.2923\n",
      "Epoch 18/45\n",
      "22/22 [==============================] - 2s 90ms/step - loss: 2.9582 - accuracy: 0.3381\n",
      "Epoch 19/45\n",
      "22/22 [==============================] - 2s 91ms/step - loss: 2.7300 - accuracy: 0.3682\n",
      "Epoch 20/45\n",
      "22/22 [==============================] - 2s 91ms/step - loss: 2.5185 - accuracy: 0.4183\n",
      "Epoch 21/45\n",
      "22/22 [==============================] - 2s 93ms/step - loss: 2.3196 - accuracy: 0.4828\n",
      "Epoch 22/45\n",
      "22/22 [==============================] - 2s 97ms/step - loss: 2.1283 - accuracy: 0.5372\n",
      "Epoch 23/45\n",
      "22/22 [==============================] - 2s 90ms/step - loss: 1.9576 - accuracy: 0.5989\n",
      "Epoch 24/45\n",
      "22/22 [==============================] - 2s 96ms/step - loss: 1.7939 - accuracy: 0.6633\n",
      "Epoch 25/45\n",
      "22/22 [==============================] - 2s 92ms/step - loss: 1.6418 - accuracy: 0.7221\n",
      "Epoch 26/45\n",
      "22/22 [==============================] - 2s 88ms/step - loss: 1.5005 - accuracy: 0.7880\n",
      "Epoch 27/45\n",
      "22/22 [==============================] - 2s 95ms/step - loss: 1.3766 - accuracy: 0.8424\n",
      "Epoch 28/45\n",
      "22/22 [==============================] - 2s 93ms/step - loss: 1.2513 - accuracy: 0.8725\n",
      "Epoch 29/45\n",
      "22/22 [==============================] - 2s 92ms/step - loss: 1.1449 - accuracy: 0.8997\n",
      "Epoch 30/45\n",
      "22/22 [==============================] - 2s 92ms/step - loss: 1.0470 - accuracy: 0.9241\n",
      "Epoch 31/45\n",
      "22/22 [==============================] - 2s 101ms/step - loss: 0.9592 - accuracy: 0.9470\n",
      "Epoch 32/45\n",
      "22/22 [==============================] - 2s 98ms/step - loss: 0.8792 - accuracy: 0.9542\n",
      "Epoch 33/45\n",
      "22/22 [==============================] - 2s 94ms/step - loss: 0.8110 - accuracy: 0.9628\n",
      "Epoch 34/45\n",
      "22/22 [==============================] - 2s 97ms/step - loss: 0.7412 - accuracy: 0.9785\n",
      "Epoch 35/45\n",
      "22/22 [==============================] - 2s 96ms/step - loss: 0.6861 - accuracy: 0.9814\n",
      "Epoch 36/45\n",
      "22/22 [==============================] - 2s 90ms/step - loss: 0.6317 - accuracy: 0.9900\n",
      "Epoch 37/45\n",
      "22/22 [==============================] - 2s 99ms/step - loss: 0.5808 - accuracy: 0.9914\n",
      "Epoch 38/45\n",
      "22/22 [==============================] - 2s 90ms/step - loss: 0.5384 - accuracy: 0.9928\n",
      "Epoch 39/45\n",
      "22/22 [==============================] - 2s 91ms/step - loss: 0.4981 - accuracy: 0.9957\n",
      "Epoch 40/45\n",
      "22/22 [==============================] - 2s 91ms/step - loss: 0.4655 - accuracy: 0.9957\n",
      "Epoch 41/45\n",
      "22/22 [==============================] - 2s 91ms/step - loss: 0.4340 - accuracy: 0.9971\n",
      "Epoch 42/45\n",
      "22/22 [==============================] - 2s 92ms/step - loss: 0.4026 - accuracy: 0.9971\n",
      "Epoch 43/45\n",
      "22/22 [==============================] - 2s 101ms/step - loss: 0.3748 - accuracy: 0.9986\n",
      "Epoch 44/45\n",
      "22/22 [==============================] - 2s 96ms/step - loss: 0.3473 - accuracy: 0.9971\n",
      "Epoch 45/45\n",
      "22/22 [==============================] - 2s 96ms/step - loss: 0.3263 - accuracy: 0.9986\n"
     ]
    },
    {
     "data": {
      "text/plain": [
       "<keras.src.callbacks.History at 0x1b2b7ae1710>"
      ]
     },
     "execution_count": 17,
     "metadata": {},
     "output_type": "execute_result"
    }
   ],
   "source": [
    "model.fit(X,y,epochs =45,verbose=1)"
   ]
  },
  {
   "cell_type": "markdown",
   "metadata": {},
   "source": [
    "### defining a predict function"
   ]
  },
  {
   "cell_type": "code",
   "execution_count": 18,
   "metadata": {},
   "outputs": [
    {
     "name": "stdout",
     "output_type": "stream",
     "text": [
      "1/1 [==============================] - 2s 2s/step\n",
      "1/1 [==============================] - 0s 36ms/step\n",
      "1/1 [==============================] - 0s 41ms/step\n",
      "1/1 [==============================] - 0s 44ms/step\n",
      "1/1 [==============================] - 0s 38ms/step\n",
      "1/1 [==============================] - 0s 43ms/step\n",
      "1/1 [==============================] - 0s 43ms/step\n",
      "1/1 [==============================] - 0s 38ms/step\n",
      "1/1 [==============================] - 0s 41ms/step\n",
      "1/1 [==============================] - 0s 37ms/step\n",
      "I recognise the admirable effort and progress made by my predecessor in this noble task\n"
     ]
    }
   ],
   "source": [
    "input_text = \"I recognise the admirable effort\"\n",
    "next_words = 10\n",
    "\n",
    "for _ in range(next_words):\n",
    "    tkn_list = tokenizer.texts_to_sequences([input_text])[0]\n",
    "    tkn_list = pad_sequences([tkn_list],maxlen = max_len -1, padding='pre')\n",
    "    predicted = np.argmax(model.predict(tkn_list),axis = -1)\n",
    "    output_text = ''\n",
    "    for word,index in tokenizer.word_index.items():\n",
    "        if index == predicted:\n",
    "            output_text = word\n",
    "            break\n",
    "    input_text += \" \" + output_text\n",
    "\n",
    "print(input_text)"
   ]
  },
  {
   "cell_type": "code",
   "execution_count": 20,
   "metadata": {},
   "outputs": [],
   "source": [
    "model.save(r'C:\\Users\\odhia\\OneDrive\\Desktop\\nlpProjects\\artifacts\\model.keras')"
   ]
  },
  {
   "cell_type": "code",
   "execution_count": 21,
   "metadata": {},
   "outputs": [],
   "source": [
    "import pickle\n",
    "file_path = 'C:/Users/odhia/OneDrive/Desktop/nlpProjects/artifacts/tokenizer.pkl'\n",
    "with open(file_path, 'wb') as file_obj:\n",
    "    pickle.dump(tokenizer, file_obj)"
   ]
  },
  {
   "cell_type": "code",
   "execution_count": null,
   "metadata": {},
   "outputs": [],
   "source": []
  }
 ],
 "metadata": {
  "kernelspec": {
   "display_name": "venv",
   "language": "python",
   "name": "python3"
  },
  "language_info": {
   "codemirror_mode": {
    "name": "ipython",
    "version": 3
   },
   "file_extension": ".py",
   "mimetype": "text/x-python",
   "name": "python",
   "nbconvert_exporter": "python",
   "pygments_lexer": "ipython3",
   "version": "3.11.3"
  }
 },
 "nbformat": 4,
 "nbformat_minor": 2
}
